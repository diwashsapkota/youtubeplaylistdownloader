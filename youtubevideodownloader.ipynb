{
  "nbformat": 4,
  "nbformat_minor": 0,
  "metadata": {
    "colab": {
      "name": "youtubevideodownloader.ipynb",
      "provenance": [],
      "mount_file_id": "1xgCwP2jOYbpGo-h2OcYLoOPE2-UxDepw",
      "authorship_tag": "ABX9TyNxSUfzg1/pPAsno/l5FI7H",
      "include_colab_link": true
    },
    "kernelspec": {
      "name": "python3",
      "display_name": "Python 3"
    }
  },
  "cells": [
    {
      "cell_type": "markdown",
      "metadata": {
        "id": "view-in-github",
        "colab_type": "text"
      },
      "source": [
        "<a href=\"https://colab.research.google.com/github/diwashsapkota/youtubeplaylistdownloader/blob/main/youtubevideodownloader.ipynb\" target=\"_parent\"><img src=\"https://colab.research.google.com/assets/colab-badge.svg\" alt=\"Open In Colab\"/></a>"
      ]
    },
    {
      "cell_type": "markdown",
      "metadata": {
        "id": "9omg8TPiCJON"
      },
      "source": [
        "This code was originally posted in https://github.com/mohit0101 I tried running it in my google colaboratory along with some other changes. Using this code, you can either download the playlist zip to your local machine, or save it to some folder in google drive. Happy Learning!"
      ]
    },
    {
      "cell_type": "code",
      "metadata": {
        "colab": {
          "base_uri": "https://localhost:8080/"
        },
        "id": "Cjml9tHul1lR",
        "outputId": "0b8614ea-3cb5-44e6-c470-d5e1661de472"
      },
      "source": [
        "#Installing Necessary Libraries\r\n",
        "pip install pytube"
      ],
      "execution_count": 4,
      "outputs": [
        {
          "output_type": "stream",
          "text": [
            "Requirement already satisfied: pytube in /usr/local/lib/python3.7/dist-packages (10.5.1)\n",
            "Requirement already satisfied: typing-extensions in /usr/local/lib/python3.7/dist-packages (from pytube) (3.7.4.3)\n"
          ],
          "name": "stdout"
        }
      ]
    },
    {
      "cell_type": "code",
      "metadata": {
        "colab": {
          "base_uri": "https://localhost:8080/"
        },
        "id": "7rRiJNewlzU0",
        "outputId": "81b84a07-2892-4213-faf0-4032f7dc5eca"
      },
      "source": [
        "#Importing other necessary libraries\r\n",
        "import os\r\n",
        "import subprocess\r\n",
        "from pytube import YouTube\r\n",
        "import random\r\n",
        "import requests\r\n",
        "import re\r\n",
        "import string\r\n",
        "\r\n",
        "\r\n",
        "#imp functions\r\n",
        "\r\n",
        "\r\n",
        "def foldertitle(url):\r\n",
        "\r\n",
        "    try:\r\n",
        "        res = requests.get(url)\r\n",
        "    except:\r\n",
        "        print('no internet')\r\n",
        "        return False\r\n",
        "\r\n",
        "    plain_text = res.text\r\n",
        "\r\n",
        "    if 'list=' in url:\r\n",
        "        eq = url.rfind('=') + 1\r\n",
        "        cPL = url[eq:]\r\n",
        "\r\n",
        "    else:\r\n",
        "        print('Incorrect attempt.')\r\n",
        "        return False\r\n",
        "\r\n",
        "    return cPL\r\n",
        "\r\n",
        "\r\n",
        "\r\n",
        "def link_snatcher(url):\r\n",
        "    our_links = []\r\n",
        "    try:\r\n",
        "        res = requests.get(url)\r\n",
        "    except:\r\n",
        "        print('no internet')\r\n",
        "        return False\r\n",
        "\r\n",
        "    plain_text = res.text\r\n",
        "\r\n",
        "    if 'list=' in url:\r\n",
        "        eq = url.rfind('=') + 1\r\n",
        "        cPL = url[eq:]\r\n",
        "    else:\r\n",
        "        print('Incorrect Playlist.')\r\n",
        "        return False\r\n",
        "\r\n",
        "    tmp_mat = re.compile(r'watch\\?v=\\S+?list=' + cPL)\r\n",
        "    mat = re.findall(tmp_mat, plain_text)\r\n",
        "\r\n",
        "    for m in mat:\r\n",
        "        new_m = m.replace('&amp;', '&')\r\n",
        "        work_m = 'https://youtube.com/' + new_m\r\n",
        "        # print(work_m)\r\n",
        "        if work_m not in our_links:\r\n",
        "            our_links.append(work_m)\r\n",
        "\r\n",
        "    return our_links\r\n",
        "\r\n",
        "\r\n",
        "BASE_DIR = os.getcwd()\r\n",
        "\r\n",
        "print('WELCOME TO PLAYLIST DOWNLOADER DEVELOPED BY - www.github.com/mohit0101')\r\n",
        "\r\n",
        "url = str(input(\"\\nspecify you playlist url\\n\"))\r\n",
        "\r\n",
        "print('\\nCHOOSE ANY ONE - TYPE 360P OR 720P\\n')\r\n",
        "user_res = str(input()).lower()\r\n",
        "\r\n",
        "\r\n",
        "print('...You choosed ' + user_res + ' resolution\\n.')\r\n",
        "\r\n",
        "our_links = link_snatcher(url)\r\n",
        "\r\n",
        "os.chdir(BASE_DIR)\r\n",
        "\r\n",
        "new_folder_name = foldertitle(url)\r\n",
        "print(new_folder_name[:7])\r\n",
        "\r\n",
        "try:\r\n",
        "    os.mkdir(new_folder_name[:7])\r\n",
        "except:\r\n",
        "    print('folder already exists')\r\n",
        "\r\n",
        "os.chdir(new_folder_name[:7])\r\n",
        "SAVEPATH = os.getcwd()\r\n",
        "print(f'\\n files will be saved to {SAVEPATH}')\r\n",
        "\r\n",
        "x=[]\r\n",
        "for root, dirs, files in os.walk(\".\", topdown=False):\r\n",
        "    for name in files:\r\n",
        "        pathh = os.path.join(root, name)\r\n",
        "\r\n",
        "        \r\n",
        "        if os.path.getsize(pathh) < 1:\r\n",
        "            os.remove(pathh)\r\n",
        "        else:\r\n",
        "            x.append(str(name))\r\n",
        "\r\n",
        "\r\n",
        "print('\\nconnecting . . .\\n')\r\n",
        "\r\n",
        "\r\n",
        "print()\r\n",
        "\r\n",
        "for link in our_links:\r\n",
        "    try:\r\n",
        "        yt = YouTube(link)\r\n",
        "        main_title = yt.title\r\n",
        "        main_title = main_title + '.mp4'\r\n",
        "        main_title = main_title.replace('|', '')\r\n",
        "        \r\n",
        "    except:\r\n",
        "        print('connection problem..unable to fetch video info')\r\n",
        "        break\r\n",
        "\r\n",
        "    \r\n",
        "    if main_title not in x:\r\n",
        "\r\n",
        "        \r\n",
        "        if user_res == '360p' or user_res == '720p':\r\n",
        "            vid = yt.streams.filter(progressive=True, file_extension='mp4', res=user_res).first()\r\n",
        "            print('Downloading. . . ' + vid.default_filename + ' and its file size -> ' + str(round(vid.filesize / (1024 * 1024), 2)) + ' MB.')\r\n",
        "            vid.download(SAVEPATH)\r\n",
        "            print('Video Downloaded')\r\n",
        "        else:\r\n",
        "            print('something is wrong.. please rerun the script')\r\n",
        "\r\n",
        "\r\n",
        "    else:\r\n",
        "        print(f'\\n skipping \"{main_title}\" video \\n')\r\n",
        "\r\n",
        "\r\n",
        "print(' downloading finished')\r\n",
        "print(f'\\n all your videos are saved at --> {SAVEPATH}')\r\n"
      ],
      "execution_count": 6,
      "outputs": [
        {
          "output_type": "stream",
          "text": [
            "WELCOME TO PLAYLIST DOWNLOADER DEVELOPED BY - www.github.com/mohit0101\n",
            "\n",
            "specify you playlist url\n",
            "https://www.youtube.com/playlist?list=PL2zq7klxX5ASFejJj80ob9ZAnBHdz5O1t\n",
            "\n",
            "CHOOSE ANY ONE - TYPE 360P OR 720P\n",
            "\n",
            "720P\n",
            "...You choosed 720p resolution\n",
            ".\n",
            "PL2zq7k\n",
            "\n",
            " files will be saved to /content/PL2zq7k\n",
            "\n",
            "connecting . . .\n",
            "\n",
            "\n",
            "Downloading. . . Data Science Project from Scratch - Part 1 (Project Planning).mp4 and its file size -> 44.53 MB.\n",
            "Video Downloaded\n",
            "Downloading. . . Data Science Project from Scratch - Part 2 (Data Collection).mp4 and its file size -> 118.95 MB.\n",
            "Video Downloaded\n",
            "Downloading. . . Data Science Project from Scratch - Part 3 (Data Cleaning).mp4 and its file size -> 148.59 MB.\n",
            "Video Downloaded\n",
            "Downloading. . . Data Science Project from Scratch - Part 4 (Exploratory Data Analysis).mp4 and its file size -> 179.49 MB.\n",
            "Video Downloaded\n",
            "Downloading. . . Data Science Project from Scratch  - Part 5 (Model Building).mp4 and its file size -> 232.11 MB.\n",
            "Video Downloaded\n",
            "Downloading. . . Data Science Project from Scratch -  Part 6 (Putting the Model into Production).mp4 and its file size -> 154.6 MB.\n",
            "Video Downloaded\n",
            "Downloading. . . Data Science Project from Scratch - Part 7 (Documenting Your Work).mp4 and its file size -> 57.73 MB.\n",
            "Video Downloaded\n",
            " downloading finished\n",
            "\n",
            " all your videos are saved at --> /content/PL2zq7k\n"
          ],
          "name": "stdout"
        }
      ]
    },
    {
      "cell_type": "code",
      "metadata": {
        "colab": {
          "base_uri": "https://localhost:8080/"
        },
        "id": "jicea9YJnh-t",
        "outputId": "50d871e7-b0b4-4206-8f00-9c8474730860"
      },
      "source": [
        "#To compress the downloaded videos either for downloading to local machine or for copying it to google drive.\r\n",
        "!zip -r /content/file.zip /content/PL2zq7k/"
      ],
      "execution_count": 7,
      "outputs": [
        {
          "output_type": "stream",
          "text": [
            "  adding: content/PL2zq7k/ (stored 0%)\n",
            "  adding: content/PL2zq7k/Data Science Project from Scratch - Part 3 (Data Cleaning).mp4 (deflated 2%)\n",
            "  adding: content/PL2zq7k/Data Science Project from Scratch - Part 7 (Documenting Your Work).mp4 (deflated 1%)\n",
            "  adding: content/PL2zq7k/Data Science Project from Scratch - Part 4 (Exploratory Data Analysis).mp4 (deflated 2%)\n",
            "  adding: content/PL2zq7k/Data Science Project from Scratch -  Part 6 (Putting the Model into Production).mp4 (deflated 1%)\n",
            "  adding: content/PL2zq7k/Data Science Project from Scratch - Part 1 (Project Planning).mp4 (deflated 0%)\n",
            "  adding: content/PL2zq7k/Data Science Project from Scratch  - Part 5 (Model Building).mp4 (deflated 1%)\n",
            "  adding: content/PL2zq7k/Data Science Project from Scratch - Part 2 (Data Collection).mp4 (deflated 1%)\n"
          ],
          "name": "stdout"
        }
      ]
    },
    {
      "cell_type": "code",
      "metadata": {
        "colab": {
          "base_uri": "https://localhost:8080/",
          "height": 35
        },
        "id": "Ymau_JCi_5a_",
        "outputId": "03e7f9fb-d665-4d85-fbf6-669329ccfe4f"
      },
      "source": [
        "#The directory below is my directory in google drive. However, it may be changed as per the user's desire.\r\n",
        "#Mount Google Drive before running this code\r\n",
        "import shutil \r\n",
        "shutil.copy(\"/content/file.zip\", \"/content/drive/MyDrive/Playlists/DataScienceProjectKenZee/file.zip\")"
      ],
      "execution_count": 9,
      "outputs": [
        {
          "output_type": "execute_result",
          "data": {
            "application/vnd.google.colaboratory.intrinsic+json": {
              "type": "string"
            },
            "text/plain": [
              "'/content/drive/MyDrive/Playlists/DataScienceProjectKenZee/file.zip'"
            ]
          },
          "metadata": {
            "tags": []
          },
          "execution_count": 9
        }
      ]
    },
    {
      "cell_type": "code",
      "metadata": {
        "id": "aTYeK9ijDRx9"
      },
      "source": [
        "#To download the compressed file to local machine:\r\n",
        "from google.colab import files\r\n",
        "files.download(\"/content/file.zip\")"
      ],
      "execution_count": null,
      "outputs": []
    }
  ]
}